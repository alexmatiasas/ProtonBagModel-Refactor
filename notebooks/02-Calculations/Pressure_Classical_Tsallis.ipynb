{
 "cells": [
  {
   "cell_type": "markdown",
   "metadata": {},
   "source": [
    "## Numerical check of pressure functions\n",
    "\n",
    "We evaluate the classical and Tsallis pressures for:\n",
    "\n",
    "- **Temperature $ T = 190\\, \\text{MeV} $**\n",
    "- **Chemical potential $ \\mu = 0\\, \\text{MeV} $**\n",
    "- **Non-extensive parameter $ q = 1.1 $**\n",
    "\n",
    "This confirms that the imported functions from `pressure_models.py` work correctly."
   ]
  },
  {
   "cell_type": "code",
   "execution_count": 2,
   "metadata": {},
   "outputs": [],
   "source": [
    "# Import core libraries\n",
    "import numpy as np\n",
    "import matplotlib.pyplot as plt\n",
    "\n",
    "# Add src folder to path for imports\n",
    "import sys\n",
    "sys.path.append('../../src')\n",
    "\n",
    "# Import pressure functions\n",
    "from pressure_models import (\n",
    "    pressure_gluons,\n",
    "    pressure_quarks,\n",
    "    pressure_total,\n",
    "    pressure_tsallis\n",
    ")"
   ]
  },
  {
   "cell_type": "code",
   "execution_count": 1,
   "metadata": {},
   "outputs": [
    {
     "ename": "NameError",
     "evalue": "name 'pressure_gluons' is not defined",
     "output_type": "error",
     "traceback": [
      "\u001b[0;31m---------------------------------------------------------------------------\u001b[0m",
      "\u001b[0;31mNameError\u001b[0m                                 Traceback (most recent call last)",
      "Cell \u001b[0;32mIn[1], line 7\u001b[0m\n\u001b[1;32m      4\u001b[0m q_test \u001b[38;5;241m=\u001b[39m \u001b[38;5;241m1.1\u001b[39m  \u001b[38;5;66;03m# Non-extensivity parameter\u001b[39;00m\n\u001b[1;32m      6\u001b[0m \u001b[38;5;66;03m# Evaluate pressures\u001b[39;00m\n\u001b[0;32m----> 7\u001b[0m P_G_val \u001b[38;5;241m=\u001b[39m pressure_gluons(T_test)\n\u001b[1;32m      8\u001b[0m P_Q_val \u001b[38;5;241m=\u001b[39m pressure_quarks(T_test, mu_test)\n\u001b[1;32m      9\u001b[0m P_total_val \u001b[38;5;241m=\u001b[39m pressure_total(T_test, mu_test)\n",
      "\u001b[0;31mNameError\u001b[0m: name 'pressure_gluons' is not defined"
     ]
    }
   ],
   "source": [
    "# Set physical parameters\n",
    "T_test = 190  # MeV\n",
    "mu_test = 0   # MeV\n",
    "q_test = 1.1  # Non-extensivity parameter\n",
    "\n",
    "# Evaluate pressures\n",
    "P_G_val = pressure_gluons(T_test)\n",
    "P_Q_val = pressure_quarks(T_test, mu_test)\n",
    "P_total_val = pressure_total(T_test, mu_test)\n",
    "P_Tsallis_val = pressure_tsallis(T_test, mu_test, q_test)\n",
    "\n",
    "# Print results\n",
    "print(f\"Gluon pressure: {P_G_val:.3e} MeV/fm^3\")\n",
    "print(f\"Quark pressure: {P_Q_val:.3e} MeV/fm^3\")\n",
    "print(f\"Total classical pressure: {P_total_val:.3e} MeV/fm^3\")\n",
    "print(f\"Total Tsallis pressure (q = {q_test}): {P_Tsallis_val:.3e} MeV/fm^3\")"
   ]
  }
 ],
 "metadata": {
  "kernelspec": {
   "display_name": "base",
   "language": "python",
   "name": "python3"
  },
  "language_info": {
   "codemirror_mode": {
    "name": "ipython",
    "version": 3
   },
   "file_extension": ".py",
   "mimetype": "text/x-python",
   "name": "python",
   "nbconvert_exporter": "python",
   "pygments_lexer": "ipython3",
   "version": "3.12.7"
  }
 },
 "nbformat": 4,
 "nbformat_minor": 2
}
