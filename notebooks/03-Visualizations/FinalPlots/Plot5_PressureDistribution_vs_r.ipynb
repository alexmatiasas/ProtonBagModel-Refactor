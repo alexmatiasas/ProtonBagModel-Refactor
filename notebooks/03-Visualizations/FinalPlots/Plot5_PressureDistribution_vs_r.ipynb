{
 "cells": [
  {
   "cell_type": "markdown",
   "metadata": {},
   "source": [
    "# Plot5: Pressure Distribution $ r^2 P(r) $\n",
    "\n",
    "This plot shows the radial distribution of the **pressure inside the proton** as:\n",
    "\n",
    "$$\n",
    "r^2 P(r)\n",
    "$$\n",
    "\n",
    "We compare:\n",
    "\n",
    "- **Total Tsallis pressure**.\n",
    "- **Gluonic pressure** with and without bag pressure $ B(r) $.\n",
    "\n",
    "Parameters:\n",
    "\n",
    "- **Temperature dependence**: $ T(r) \\sim r^{-3/4} $\n",
    "- **Bag pressure dependence**: $ B(r) \\sim r^{-0.65} $\n",
    "- **$ q $** and $ \\mu $ values: Two scenarios (near BG and non-extensive)."
   ]
  },
  {
   "cell_type": "code",
   "execution_count": 4,
   "metadata": {},
   "outputs": [],
   "source": [
    "import numpy as np\n",
    "\n",
    "# Add src folder to path for imports\n",
    "import sys\n",
    "sys.path.append('../../../src')\n",
    "\n",
    "from pressure_models import pressure_tsallis, pressure_total\n",
    "from plot_utils import PlotConfig, plot_pressure_distribution"
   ]
  },
  {
   "cell_type": "code",
   "execution_count": null,
   "metadata": {},
   "outputs": [],
   "source": []
  }
 ],
 "metadata": {
  "kernelspec": {
   "display_name": "base",
   "language": "python",
   "name": "python3"
  },
  "language_info": {
   "codemirror_mode": {
    "name": "ipython",
    "version": 3
   },
   "file_extension": ".py",
   "mimetype": "text/x-python",
   "name": "python",
   "nbconvert_exporter": "python",
   "pygments_lexer": "ipython3",
   "version": "3.12.7"
  }
 },
 "nbformat": 4,
 "nbformat_minor": 2
}
